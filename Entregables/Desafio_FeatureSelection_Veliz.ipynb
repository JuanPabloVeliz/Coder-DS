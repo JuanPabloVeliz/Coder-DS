{
 "cells": [
  {
   "attachments": {},
   "cell_type": "markdown",
   "metadata": {},
   "source": [
    "#### Importación de Librerías, definición del dataset y limpieza\n",
    "\n",
    "Se resumen las tareas correspondientes para avanzar directamente a la resolución de la consigna del desafío.\n",
    "\n"
   ]
  },
  {
   "cell_type": "code",
   "execution_count": 105,
   "metadata": {},
   "outputs": [
    {
     "name": "stdout",
     "output_type": "stream",
     "text": [
      "Dataset cargado.\n",
      "Se eliminaron las columnas ID, Payment Plan, y Accounts Delinquent\n",
      "Cantidad de muestras luego del rebalanceo:\n",
      "1    61222\n",
      "0    61222\n",
      "Name: Loan Status, dtype: int64\n",
      "Resultado de la detección de outliers:\n",
      " 1    110365\n",
      "-1     12079\n",
      "Name: Outlier, dtype: int64\n"
     ]
    }
   ],
   "source": [
    "import pandas as pd\n",
    "import numpy as np\n",
    "import matplotlib.pyplot as plt\n",
    "import seaborn as sns\n",
    "import warnings\n",
    "\n",
    "warnings.filterwarnings(\"ignore\")\n",
    "pd.options.display.max_columns = 100\n",
    "pd.options.display.float_format = '{:.2f}'.format\n",
    "\n",
    "#Cargo el Dataset\n",
    "df = pd.read_csv(\"https://github.com/JuanPabloVeliz/Coder-DS/blob/main/Dataset/train.csv?raw=true\")\n",
    "print(\"Dataset cargado.\")\n",
    "\n",
    "#Elimino columnas innecesarias\n",
    "df.drop([\"ID\", \"Payment Plan\", \"Accounts Delinquent\"], inplace=True, axis=1)\n",
    "print(\"Se eliminaron las columnas ID, Payment Plan, y Accounts Delinquent\")\n",
    "\n",
    "#Renombro columnas equivocadas\n",
    "df.rename(columns={\"Home Ownership\": \"Unknown Value\", \"Employment Duration\": \"Home Ownership\"}, inplace=True)\n",
    "\n",
    "#Reduzco la cardinalidad de Loan Title\n",
    "loan_titles = [\"Consolidation\", \"Refinancing\"]\n",
    "df.loc[df[\"Loan Title\"].str.contains(loan_titles[0], case=False), \"Loan Title\"] = loan_titles[0]\n",
    "df.loc[df[\"Loan Title\"].str.contains(loan_titles[1], case=False), \"Loan Title\"] = loan_titles[1]\n",
    "df.loc[~df[\"Loan Title\"].str.contains('|'.join(loan_titles), case=False), \"Loan Title\"] = \"Other\"\n",
    "\n",
    "\n",
    "#Transformo las variables categóricas en numéricas\n",
    "from sklearn.preprocessing import LabelEncoder\n",
    "\n",
    "home_ownerships = LabelEncoder().fit(df[\"Home Ownership\"])\n",
    "initial_list_status = LabelEncoder().fit(df[\"Initial List Status\"])\n",
    "application_types = LabelEncoder().fit(df[\"Application Type\"])\n",
    "loan_titles =LabelEncoder().fit(df[\"Loan Title\"])\n",
    "batches_enrolled = LabelEncoder().fit(df[\"Batch Enrolled\"].sort_values())\n",
    "grades = LabelEncoder().fit(df[\"Grade\"].sort_values())\n",
    "sub_grades = LabelEncoder().fit(df[\"Sub Grade\"].sort_values())\n",
    "\n",
    "df[\"Home Ownership\"] = home_ownerships.transform(df[\"Home Ownership\"])\n",
    "df[\"Initial List Status\"] = initial_list_status.transform(df[\"Initial List Status\"])\n",
    "df[\"Application Type\"] = application_types.transform(df[\"Application Type\"])\n",
    "df[\"Loan Title\"] = loan_titles.transform(df[\"Loan Title\"])\n",
    "df[\"Batch Enrolled\"] = batches_enrolled.transform(df[\"Batch Enrolled\"])\n",
    "df[\"Grade\"] = grades.transform(df[\"Grade\"])\n",
    "df[\"Sub Grade\"] = sub_grades.transform(df[\"Sub Grade\"])\n",
    "\n",
    "df[\"Verification Status\"].replace({\"Not Verified\": 0, \"Source Verified\": 1, \"Verified\": 2}, inplace=True)\n",
    "\n",
    "\n",
    "#Rebalanceo el dataset \n",
    "from sklearn.utils import resample\n",
    "\n",
    "status_0 = df[df[\"Loan Status\"]==0]\n",
    "status_1 = df[df[\"Loan Status\"]==1]\n",
    "\n",
    "status_1_resampled = resample(status_1, n_samples=len(status_0), random_state=50)\n",
    "\n",
    "resampled_df = pd.concat([status_1_resampled, status_0])\n",
    "\n",
    "print(\"Cantidad de muestras luego del rebalanceo:\")\n",
    "print(resampled_df[\"Loan Status\"].value_counts())\n",
    "\n",
    "\n",
    "#Detecto y remuevo ouliers\n",
    "from sklearn.ensemble import IsolationForest\n",
    "\n",
    "clf = IsolationForest(random_state=0)\n",
    "clf.fit(df)\n",
    "isolated = clf.predict(resampled_df)\n",
    "resampled_df[\"Outlier\"] = isolated\n",
    "\n",
    "clean_df = resampled_df[resampled_df[\"Outlier\"] == 1]\n",
    "clean_df.drop(columns=\"Outlier\", inplace=True)\n",
    "\n",
    "print(\"Resultado de la detección de outliers:\")\n",
    "print(resampled_df[\"Outlier\"].value_counts())"
   ]
  },
  {
   "attachments": {},
   "cell_type": "markdown",
   "metadata": {},
   "source": [
    "### Evaluación del Modelo con las variables originales"
   ]
  },
  {
   "cell_type": "code",
   "execution_count": 106,
   "metadata": {},
   "outputs": [],
   "source": [
    "from sklearn.tree import DecisionTreeClassifier \n",
    "from sklearn.model_selection import train_test_split\n",
    "from sklearn.metrics import accuracy_score, recall_score, precision_score, f1_score, confusion_matrix\n",
    "\n",
    "#Preparo los datos\n",
    "\n",
    "X = clean_df.drop(columns=\"Loan Status\")\n",
    "y = clean_df[\"Loan Status\"]\n",
    "\n",
    "#Separo train/test\n",
    "X_train, X_test, y_train, y_test = train_test_split(X, y)\n",
    "\n",
    "#Preparo funciones para evaluación\n",
    "def cf_matrix(pred, model):\n",
    "    cf_matrix = confusion_matrix(df[\"Loan Status\"], pred)\n",
    "    ax = sns.heatmap(cf_matrix, annot=True, fmt='d', cmap='Blues')\n",
    "    ax.set_title('Matriz de confusion - '+ model)\n",
    "    ax.set_xlabel('Valores predichos')\n",
    "    ax.set_ylabel('Valores reales')\n",
    "    ax.xaxis.set_ticklabels(['False','True'])\n",
    "    ax.yaxis.set_ticklabels(['False','True'])\n",
    "    return ax\n",
    "\n",
    "def metrics(pred, model):\n",
    "    print(\"Evaluación del modelo - \", model)\n",
    "    print(\"Accuracy (tp + tn / Total): \",\"{:.2%}\".format(accuracy_score(df[\"Loan Status\"], pred)), \" Etiquetados correctamente\")\n",
    "    print(\"Precision Score (tp / (tp + fp)): \",\"{:.2%}\".format(precision_score(df[\"Loan Status\"], pred, average=\"binary\")), \" Predicciones positivas acertadas\")\n",
    "    print(\"Recall Score (tp / (tp + fn)): \",\"{:.2%}\".format(recall_score(df[\"Loan Status\"], pred, average=\"binary\")), \" Casos positivos detectados\")\n",
    "    print(\"F1-Score (2 * (precision * recall ) / (precision + recall)): \",\"{:.2%}\".format(f1_score(df[\"Loan Status\"], pred, average=\"binary\")), \" Media armónica entre Precision y Recall\")"
   ]
  },
  {
   "cell_type": "code",
   "execution_count": 107,
   "metadata": {},
   "outputs": [
    {
     "name": "stdout",
     "output_type": "stream",
     "text": [
      "Evaluación del modelo -  Decision Tree\n",
      "Accuracy (tp + tn / Total):  95.87%  Etiquetados correctamente\n",
      "Precision Score (tp / (tp + fp)):  74.45%  Predicciones positivas acertadas\n",
      "Recall Score (tp / (tp + fn)):  84.28%  Casos positivos detectados\n",
      "F1-Score (2 * (precision * recall ) / (precision + recall)):  79.06%  Media armónica entre Precision y Recall\n"
     ]
    },
    {
     "data": {
      "image/png": "[encoded data removed]",
      "text/plain": [
       "<Figure size 432x288 with 2 Axes>"
      ]
     },
     "metadata": {
      "needs_background": "light"
     },
     "output_type": "display_data"
    }
   ],
   "source": [
    "# Decision Tree\n",
    "#Paso 1 :Instanciar\n",
    "model = DecisionTreeClassifier(random_state=0)\n",
    "#Paso 2 : Fit con la información\n",
    "model.fit(X_train, y_train)\n",
    "#Paso 3 : Predicción\n",
    "pred = model.predict(df.drop(columns=\"Loan Status\"))\n",
    "\n",
    "cf_matrix(pred, \"Decision Tree\")\n",
    "metrics(pred, \"Decision Tree\")"
   ]
  },
  {
   "attachments": {},
   "cell_type": "markdown",
   "metadata": {},
   "source": [
    "La conclusión hasta el momento es que el modelo está respondiendo positivamente. Las métricas están arrojando valores muy razonables. Es importante destacar la performance medida con el Recall Score, que indica que el modelo puede predecir aproximadamente el 84% de los casos positivos de default."
   ]
  },
  {
   "attachments": {},
   "cell_type": "markdown",
   "metadata": {},
   "source": [
    "### Feature Selection y reevaluación del modelo\n",
    "\n",
    "A continuación realizo un proceso de creación de nuevas variables sintéticas a partir de las variable originales y luego un proceso de eliminación de variables con el objetivo de ayudar a mejorar la performance del modelo.\n",
    "\n",
    "Las dos variables sintéticas, se crean tanto en el Dataset original como en el procesado. El dataset procesado se utiliza para el entrenamiento y el dataset original se utiliza para hacer las predicciones.  "
   ]
  },
  {
   "cell_type": "code",
   "execution_count": 108,
   "metadata": {},
   "outputs": [],
   "source": [
    "#Delinquency indica con True si existió algún evento, False si no se registra ninguno.\n",
    "clean_df[\"Delinquency\"] = clean_df[\"Delinquency - two years\"] != 0\n",
    "df[\"Delinquency\"] = df[\"Delinquency - two years\"] != 0\n",
    "\n",
    "#Fundad / Loan indica el coeficiente de fondeo sobre el valor del préstamo solicitado.\n",
    "clean_df[\"Funded / Loan\"] = clean_df[\"Funded Amount\"] + clean_df[\"Funded Amount Investor\"] / clean_df[\"Loan Amount\"]\n",
    "df[\"Funded / Loan\"] = df[\"Funded Amount\"] + df[\"Funded Amount Investor\"] / df[\"Loan Amount\"]"
   ]
  },
  {
   "attachments": {},
   "cell_type": "markdown",
   "metadata": {},
   "source": [
    "Habiendo incorporado estas nuevas variables utilizo PCA para identificar las más importantes y así poder de descartar las que no estén aportando valor al modelo.\n",
    "\n",
    "Como se ve a continuación, reduciendo el modelo a sus 2 componentes principales, vemos que el PCA1 es capaz de explicar aproximadamente el 90% de las variaciones."
   ]
  },
  {
   "cell_type": "code",
   "execution_count": 109,
   "metadata": {},
   "outputs": [
    {
     "data": {
      "image/png": "[encoded data removed]",
      "text/plain": [
       "<Figure size 432x288 with 1 Axes>"
      ]
     },
     "metadata": {
      "needs_background": "light"
     },
     "output_type": "display_data"
    }
   ],
   "source": [
    "from sklearn.decomposition import PCA\n",
    "\n",
    "x = clean_df.drop(columns=\"Loan Status\")\n",
    "y = clean_df[\"Loan Status\"]\n",
    "\n",
    "#Intancio el objeto pca\n",
    "pca = PCA(n_components=2)\n",
    "\n",
    "#Entreno usando el dataset escalado\n",
    "pca.fit(X)\n",
    "\n",
    "#Genero los datos para el modelo\n",
    "pca_data = pca.transform(X)\n",
    "\n",
    "#% de variación que explica cada componente\n",
    "per_var = np.round(pca.explained_variance_ratio_* 100, decimals=1)\n",
    "\n",
    "#Genero los nombre de los componentes, 1 por cada uno incluído en \"per_var\"\n",
    "labels = ['PC' + str(x) for x in range(1, len(per_var)+1)]\n",
    "\n",
    "plt.bar(x=range(1,len(per_var)+1), height=per_var, tick_label=labels)\n",
    "plt.ylabel('Porcentaje de variación explicado')\n",
    "plt.xlabel('Principal Component')\n",
    "plt.show()\n"
   ]
  },
  {
   "attachments": {},
   "cell_type": "markdown",
   "metadata": {},
   "source": [
    "El paso siguiente es entonces analizar cuáles son las variables más influyentes en cada componente.\n",
    "\n",
    "Sorprendentemente, se ve que cada componente está vinculado a 1 sola variable. Esto indicaría que podríamos mantener la eficacia del modelo utilizando sólo las variables comprometidas."
   ]
  },
  {
   "cell_type": "code",
   "execution_count": 110,
   "metadata": {},
   "outputs": [
    {
     "name": "stdout",
     "output_type": "stream",
     "text": [
      "Pesos PCA1\n",
      "Total Current Balance          1.00\n",
      "Unknown Value                  0.00\n",
      "Total Revolving Credit Limit   0.00\n",
      "Revolving Balance              0.00\n",
      "Loan Amount                    0.00\n",
      "dtype: float64\n",
      "Pesos PCA2\n",
      "Unknown Value                  1.00\n",
      "Total Revolving Credit Limit   0.00\n",
      "Loan Amount                    0.00\n",
      "Funded Amount                  0.00\n",
      "Revolving Balance              0.00\n",
      "dtype: float64\n"
     ]
    }
   ],
   "source": [
    "## Obtengo los pesos de las variables en el primer componente\n",
    "pesos_PCA1 = pd.Series(pca.components_[0], index=X.columns)\n",
    "pesos_PCA2 = pd.Series(pca.components_[1], index=X.columns)\n",
    "\n",
    "# Muestro los primeros 5 elementos de cada componente \n",
    "print(\"Pesos PCA1\")\n",
    "print(pesos_PCA1.abs().sort_values(ascending=False)[0:5])\n",
    "\n",
    "print(\"Pesos PCA2\")\n",
    "print(pesos_PCA2.abs().sort_values(ascending=False)[0:5])"
   ]
  },
  {
   "attachments": {},
   "cell_type": "markdown",
   "metadata": {},
   "source": [
    "A continuación, defino un nuevo dataset incluyendo sólo las columnas relacionadas con los componentes principales.\n",
    "Luego, utilizo este dataset resumido para entrenar un nuevo Decision Tree y realizo su evaluación."
   ]
  },
  {
   "cell_type": "code",
   "execution_count": 111,
   "metadata": {},
   "outputs": [
    {
     "name": "stdout",
     "output_type": "stream",
     "text": [
      "Evaluación del modelo -  Decision Tree\n",
      "Accuracy (tp + tn / Total):  96.13%  Etiquetados correctamente\n",
      "Precision Score (tp / (tp + fp)):  76.23%  Predicciones positivas acertadas\n",
      "Recall Score (tp / (tp + fn)):  84.52%  Casos positivos detectados\n",
      "F1-Score (2 * (precision * recall ) / (precision + recall)):  80.16%  Media armónica entre Precision y Recall\n"
     ]
    },
    {
     "data": {
      "image/png": "[encoded data removed]",
      "text/plain": [
       "<Figure size 432x288 with 2 Axes>"
      ]
     },
     "metadata": {
      "needs_background": "light"
     },
     "output_type": "display_data"
    }
   ],
   "source": [
    "pca_df = clean_df[[\"Total Current Balance\", \"Unknown Value\", \"Loan Status\"]]\n",
    "\n",
    "#Preparo los datos\n",
    "\n",
    "X = pca_df.drop(columns=\"Loan Status\")\n",
    "y = pca_df[\"Loan Status\"]\n",
    "\n",
    "#Separo train/test\n",
    "X_train, X_test, y_train, y_test = train_test_split(X, y)\n",
    "\n",
    "# Decision Tree\n",
    "#Paso 1 :Instanciar\n",
    "model = DecisionTreeClassifier(random_state=0)\n",
    "#Paso 2 : Fit con la información\n",
    "model.fit(X_train, y_train)\n",
    "#Paso 3 : Predicción\n",
    "pred = model.predict(df[[\"Total Current Balance\", \"Unknown Value\"]])\n",
    "\n",
    "cf_matrix(pred, \"Decision Tree\")\n",
    "metrics(pred, \"Decision Tree\")"
   ]
  },
  {
   "attachments": {},
   "cell_type": "markdown",
   "metadata": {},
   "source": [
    "## Conclusiones\n",
    "\n",
    "Tal como inferimos a partir del resultado de la aplicación del PCA, utilizando sólo las 2 variables destacadas es suficiente para que el modelo mantenga una performance aceptable.\n",
    "\n",
    "Respecto a las las variables utilizadas, una de ellas corresponde a una serie de datos que no estaba correctamente identificada en el dataset original. Si se tratara de datos de un negocio real, resultaría muy importante solicitar al proveedor de los datos una aclaración sobre a qué se refiere la variable en cuestión.\n",
    "\n",
    "Respecto al modelo, el haber reducido la cantidad de variables de las 32 iniciales a sólo 2 es una ganancia muy relevante ya que resultará ser un modelo de aplicación más simple a la hora de hacer el despliegue."
   ]
  }
 ],
 "metadata": {
  "kernelspec": {
   "display_name": "Python 3",
   "language": "python",
   "name": "python3"
  },
  "language_info": {
   "codemirror_mode": {
    "name": "ipython",
    "version": 3
   },
   "file_extension": ".py",
   "mimetype": "text/x-python",
   "name": "python",
   "nbconvert_exporter": "python",
   "pygments_lexer": "ipython3",
   "version": "3.10.5"
  },
  "orig_nbformat": 4,
  "vscode": {
   "interpreter": {
    "hash": "26de051ba29f2982a8de78e945f0abaf191376122a1563185a90213a26c5da77"
   }
  }
 },
 "nbformat": 4,
 "nbformat_minor": 2
}
