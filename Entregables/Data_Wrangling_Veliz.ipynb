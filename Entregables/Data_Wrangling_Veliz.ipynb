{
 "cells": [
  {
   "cell_type": "markdown",
   "metadata": {},
   "source": [
    "# Desafío de Data Wrangling\n",
    "\n",
    "## Llamados telefónicos al 147 - Atención al vecino\n",
    "\n",
    "Para este desafío utilizo un dataset provisto por la ciudad de Pergamino, Buenos Aires, Argentina (donde resido). El dataset es el listado de llamados telefónicos al número 147, que resulta de la actividad del proyecto, como lo describe el Municipio en su página:\n",
    "\n",
    "    Atención al Vecino 147 es la linea gratuita de reclamos municipales donde se recepcionan todos los reclamos hacia las áreas municipales que realizan los vecinos de la ciudad.\n",
    "\n",
    "    Los reclamos son registrados mediante un número de reclamo y derivados inmediatamente a las áreas que correspondan por medio de un sistema que se trabaja conjuntamente con las diferentes áreas.\n",
    "\n",
    "    El objetivo es brindar una buena atención para que se sientan escuchados y luego que su reclamo sea solucionado lo mas pronto posible por esto se trabaja conjuntamente con todas las áreas del municipio.\n",
    "\n",
    "La información se utilizará para entender cuáles son las principales preocupaciones de los habitantes, cuáles son los problemas más recurrentes, en qué zonas de la ciudad, detectar oportunidades de aplicar políticas de prevención y/o reforzar las áreas correspondientes."
   ]
  },
  {
   "cell_type": "code",
   "execution_count": 1,
   "metadata": {},
   "outputs": [],
   "source": [
    "import pandas as pd\n",
    "\n",
    "llamados = pd.read_csv(\"https://raw.githubusercontent.com/JuanPabloVeliz/Coder-DS/main/Dataset/Llamados147.csv\", sep=\";\")"
   ]
  },
  {
   "cell_type": "code",
   "execution_count": 2,
   "metadata": {},
   "outputs": [
    {
     "name": "stdout",
     "output_type": "stream",
     "text": [
      "<class 'pandas.core.frame.DataFrame'>\n",
      "RangeIndex: 23609 entries, 0 to 23608\n",
      "Data columns (total 8 columns):\n",
      " #   Column                      Non-Null Count  Dtype \n",
      "---  ------                      --------------  ----- \n",
      " 0   fecha                       23609 non-null  object\n",
      " 1   mes                         23609 non-null  int64 \n",
      " 2   reclamo                     23609 non-null  int64 \n",
      " 3   titulo                      23609 non-null  object\n",
      " 4   situacion                   23609 non-null  object\n",
      " 5   area                        23609 non-null  object\n",
      " 6   barrio                      21965 non-null  object\n",
      " 7   cantidad_llamados_por_caso  23609 non-null  int64 \n",
      "dtypes: int64(3), object(5)\n",
      "memory usage: 1.4+ MB\n"
     ]
    }
   ],
   "source": [
    "llamados.info()"
   ]
  },
  {
   "cell_type": "markdown",
   "metadata": {},
   "source": [
    "En la información del dataset se nota que la columna fecha, tiene un tipo incorrecto, y que sólo hay datos ausentes en la columna \"barrio\"."
   ]
  },
  {
   "cell_type": "code",
   "execution_count": 3,
   "metadata": {},
   "outputs": [
    {
     "data": {
      "text/plain": [
       "False    23609\n",
       "dtype: int64"
      ]
     },
     "execution_count": 3,
     "metadata": {},
     "output_type": "execute_result"
    }
   ],
   "source": [
    "llamados.duplicated().value_counts()"
   ]
  },
  {
   "cell_type": "markdown",
   "metadata": {},
   "source": [
    "No existen valores duplicados."
   ]
  },
  {
   "cell_type": "code",
   "execution_count": 4,
   "metadata": {},
   "outputs": [
    {
     "data": {
      "text/html": [
       "<div>\n",
       "<style scoped>\n",
       "    .dataframe tbody tr th:only-of-type {\n",
       "        vertical-align: middle;\n",
       "    }\n",
       "\n",
       "    .dataframe tbody tr th {\n",
       "        vertical-align: top;\n",
       "    }\n",
       "\n",
       "    .dataframe thead th {\n",
       "        text-align: right;\n",
       "    }\n",
       "</style>\n",
       "<table border=\"1\" class=\"dataframe\">\n",
       "  <thead>\n",
       "    <tr style=\"text-align: right;\">\n",
       "      <th></th>\n",
       "      <th>fecha</th>\n",
       "      <th>mes</th>\n",
       "      <th>reclamo</th>\n",
       "      <th>titulo</th>\n",
       "      <th>situacion</th>\n",
       "      <th>area</th>\n",
       "      <th>barrio</th>\n",
       "      <th>cantidad_llamados_por_caso</th>\n",
       "    </tr>\n",
       "  </thead>\n",
       "  <tbody>\n",
       "    <tr>\n",
       "      <th>0</th>\n",
       "      <td>04/02/2019</td>\n",
       "      <td>2</td>\n",
       "      <td>188</td>\n",
       "      <td>SEMAFORO</td>\n",
       "      <td>SEMASFORO FALTAN LAS LUCES</td>\n",
       "      <td>ELECTROMECANICA</td>\n",
       "      <td>VILLA SAN JOSE</td>\n",
       "      <td>1</td>\n",
       "    </tr>\n",
       "    <tr>\n",
       "      <th>1</th>\n",
       "      <td>04/02/2019</td>\n",
       "      <td>2</td>\n",
       "      <td>187</td>\n",
       "      <td>AGUA</td>\n",
       "      <td>ROTURA DE CAÑO ROTO EN LA CALLE</td>\n",
       "      <td>OBRAS Y SERVICIOS SANITARIOS</td>\n",
       "      <td>VILLA PROGRESO</td>\n",
       "      <td>1</td>\n",
       "    </tr>\n",
       "    <tr>\n",
       "      <th>2</th>\n",
       "      <td>04/02/2019</td>\n",
       "      <td>2</td>\n",
       "      <td>186</td>\n",
       "      <td>RESIDUOS</td>\n",
       "      <td>RESIDUOS DOMICILIARIO NO PASO EL CAMION</td>\n",
       "      <td>HIGIENE URBANA</td>\n",
       "      <td>NaN</td>\n",
       "      <td>1</td>\n",
       "    </tr>\n",
       "    <tr>\n",
       "      <th>3</th>\n",
       "      <td>04/02/2019</td>\n",
       "      <td>2</td>\n",
       "      <td>185</td>\n",
       "      <td>INSPECTOR URBANO</td>\n",
       "      <td>TERRENO BALDIO CON BASURA O MALEZAS</td>\n",
       "      <td>CONTRALOR URBANO</td>\n",
       "      <td>VILLA GRAL. SAN MARTIN</td>\n",
       "      <td>1</td>\n",
       "    </tr>\n",
       "    <tr>\n",
       "      <th>4</th>\n",
       "      <td>04/02/2019</td>\n",
       "      <td>2</td>\n",
       "      <td>181</td>\n",
       "      <td>RESIDUOS</td>\n",
       "      <td>RESIDUOS VOLUMINOSOS: RESTOS VERDES</td>\n",
       "      <td>HIGIENE URBANA</td>\n",
       "      <td>NaN</td>\n",
       "      <td>2</td>\n",
       "    </tr>\n",
       "  </tbody>\n",
       "</table>\n",
       "</div>"
      ],
      "text/plain": [
       "        fecha  mes  reclamo            titulo  \\\n",
       "0  04/02/2019    2      188          SEMAFORO   \n",
       "1  04/02/2019    2      187              AGUA   \n",
       "2  04/02/2019    2      186          RESIDUOS   \n",
       "3  04/02/2019    2      185  INSPECTOR URBANO   \n",
       "4  04/02/2019    2      181          RESIDUOS   \n",
       "\n",
       "                                 situacion                          area  \\\n",
       "0               SEMASFORO FALTAN LAS LUCES               ELECTROMECANICA   \n",
       "1          ROTURA DE CAÑO ROTO EN LA CALLE  OBRAS Y SERVICIOS SANITARIOS   \n",
       "2  RESIDUOS DOMICILIARIO NO PASO EL CAMION                HIGIENE URBANA   \n",
       "3      TERRENO BALDIO CON BASURA O MALEZAS              CONTRALOR URBANO   \n",
       "4      RESIDUOS VOLUMINOSOS: RESTOS VERDES                HIGIENE URBANA   \n",
       "\n",
       "                   barrio  cantidad_llamados_por_caso  \n",
       "0          VILLA SAN JOSE                           1  \n",
       "1          VILLA PROGRESO                           1  \n",
       "2                     NaN                           1  \n",
       "3  VILLA GRAL. SAN MARTIN                           1  \n",
       "4                     NaN                           2  "
      ]
     },
     "execution_count": 4,
     "metadata": {},
     "output_type": "execute_result"
    }
   ],
   "source": [
    "llamados.head()"
   ]
  },
  {
   "cell_type": "code",
   "execution_count": 5,
   "metadata": {},
   "outputs": [
    {
     "name": "stdout",
     "output_type": "stream",
     "text": [
      "<class 'pandas.core.frame.DataFrame'>\n",
      "Int64Index: 21965 entries, 0 to 23608\n",
      "Data columns (total 7 columns):\n",
      " #   Column                      Non-Null Count  Dtype         \n",
      "---  ------                      --------------  -----         \n",
      " 0   fecha                       21965 non-null  datetime64[ns]\n",
      " 1   reclamo                     21965 non-null  int64         \n",
      " 2   titulo                      21965 non-null  object        \n",
      " 3   situacion                   21965 non-null  object        \n",
      " 4   area                        21965 non-null  object        \n",
      " 5   barrio                      21965 non-null  object        \n",
      " 6   cantidad_llamados_por_caso  21965 non-null  int64         \n",
      "dtypes: datetime64[ns](1), int64(2), object(4)\n",
      "memory usage: 1.3+ MB\n"
     ]
    }
   ],
   "source": [
    "# Se cambia el dtype de la columna fecha a datetime para poder trabajar con series de tiempo correctamente\n",
    "llamados[\"fecha\"] = pd.to_datetime(llamados[\"fecha\"], format=\"%d/%m/%Y\")\n",
    "\n",
    "# Se elimina la columna \"mes\" por ser redundante, el dato se puede obtener de la columna \"fecha\"\n",
    "llamados.drop(columns=[\"mes\"], inplace=True)\n",
    "\n",
    "# La única columna que tiene datos ausentes es \"barrio\", se eliminan las filas completas porque\n",
    "# es un dato esencial sin el cual el resto de las columnas carecen de sentido para el tipo de \n",
    "# analisis que se intenta hacer\n",
    "llamados.dropna(inplace=True)\n",
    "\n",
    "llamados.info()"
   ]
  },
  {
   "cell_type": "markdown",
   "metadata": {},
   "source": [
    "Hechas las correcciones y ajustes necesarios, el dataset está listo para ser utilizado en el análisis posterior."
   ]
  }
 ],
 "metadata": {
  "kernelspec": {
   "display_name": "Python 3.10.8 64-bit (microsoft store)",
   "language": "python",
   "name": "python3"
  },
  "language_info": {
   "codemirror_mode": {
    "name": "ipython",
    "version": 3
   },
   "file_extension": ".py",
   "mimetype": "text/x-python",
   "name": "python",
   "nbconvert_exporter": "python",
   "pygments_lexer": "ipython3",
   "version": "3.10.9"
  },
  "orig_nbformat": 4,
  "vscode": {
   "interpreter": {
    "hash": "18ded757cb6205dc1a822e010da4c6b693404a434a3b040893055ca4f43193fe"
   }
  }
 },
 "nbformat": 4,
 "nbformat_minor": 2
}
