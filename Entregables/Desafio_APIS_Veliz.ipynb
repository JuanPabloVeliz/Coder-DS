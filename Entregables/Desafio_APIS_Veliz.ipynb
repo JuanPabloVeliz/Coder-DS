{
 "cells": [
  {
   "cell_type": "code",
   "execution_count": 1,
   "metadata": {},
   "outputs": [],
   "source": [
    "import pandas as pd\n",
    "import datetime\n",
    "import matplotlib.pyplot as plt\n",
    "import seaborn as sns\n",
    "import requests\n",
    "import json\n",
    "\n",
    "pd.options.display.max_columns = 100\n",
    "pd.options.display.float_format = '{:.2f}'.format\n"
   ]
  },
  {
   "cell_type": "code",
   "execution_count": 2,
   "metadata": {},
   "outputs": [],
   "source": [
    "# Preparar request de cotizaciones históricas\n",
    "klines = \"https://api.binance.com/api/v3/klines\"\n",
    "\n",
    "base_asset = \"BTC\"\n",
    "price_asset = \"BUSD\"\n",
    "interval = \"1d\"\n",
    "\n",
    "symbol = base_asset+price_asset\n",
    "\n",
    "klines_request = klines+\"?symbol=\"+symbol+\"&interval=\"+interval"
   ]
  },
  {
   "cell_type": "code",
   "execution_count": 3,
   "metadata": {},
   "outputs": [],
   "source": [
    "# Consultar y leer en JSON\n",
    "respuesta = requests.get(klines_request)\n",
    "\n",
    "jsondata = json.loads(respuesta.text)"
   ]
  },
  {
   "cell_type": "code",
   "execution_count": 4,
   "metadata": {},
   "outputs": [
    {
     "data": {
      "text/html": [
       "<div>\n",
       "<style scoped>\n",
       "    .dataframe tbody tr th:only-of-type {\n",
       "        vertical-align: middle;\n",
       "    }\n",
       "\n",
       "    .dataframe tbody tr th {\n",
       "        vertical-align: top;\n",
       "    }\n",
       "\n",
       "    .dataframe thead th {\n",
       "        text-align: right;\n",
       "    }\n",
       "</style>\n",
       "<table border=\"1\" class=\"dataframe\">\n",
       "  <thead>\n",
       "    <tr style=\"text-align: right;\">\n",
       "      <th></th>\n",
       "      <th>Date</th>\n",
       "      <th>Open price</th>\n",
       "      <th>High price</th>\n",
       "      <th>Low price</th>\n",
       "      <th>Close price</th>\n",
       "      <th>Volume</th>\n",
       "      <th>Quote asset volume</th>\n",
       "      <th>Number of trades</th>\n",
       "      <th>Taker buy base asset volume</th>\n",
       "      <th>Taker buy quote asset volume</th>\n",
       "    </tr>\n",
       "  </thead>\n",
       "  <tbody>\n",
       "    <tr>\n",
       "      <th>0</th>\n",
       "      <td>2021-07-09</td>\n",
       "      <td>32872.07</td>\n",
       "      <td>34100.00</td>\n",
       "      <td>32272.17</td>\n",
       "      <td>33816.26</td>\n",
       "      <td>12803.63</td>\n",
       "      <td>424372552.54</td>\n",
       "      <td>303609</td>\n",
       "      <td>6728.78</td>\n",
       "      <td>223160739.84</td>\n",
       "    </tr>\n",
       "    <tr>\n",
       "      <th>1</th>\n",
       "      <td>2021-07-10</td>\n",
       "      <td>33816.26</td>\n",
       "      <td>34258.39</td>\n",
       "      <td>33025.01</td>\n",
       "      <td>33500.22</td>\n",
       "      <td>11966.55</td>\n",
       "      <td>403478066.42</td>\n",
       "      <td>254385</td>\n",
       "      <td>5934.86</td>\n",
       "      <td>200178530.88</td>\n",
       "    </tr>\n",
       "    <tr>\n",
       "      <th>2</th>\n",
       "      <td>2021-07-11</td>\n",
       "      <td>33500.22</td>\n",
       "      <td>34613.21</td>\n",
       "      <td>33310.22</td>\n",
       "      <td>34259.99</td>\n",
       "      <td>9968.94</td>\n",
       "      <td>337557944.21</td>\n",
       "      <td>244856</td>\n",
       "      <td>5451.79</td>\n",
       "      <td>184559747.24</td>\n",
       "    </tr>\n",
       "    <tr>\n",
       "      <th>3</th>\n",
       "      <td>2021-07-12</td>\n",
       "      <td>34260.00</td>\n",
       "      <td>34671.94</td>\n",
       "      <td>32660.21</td>\n",
       "      <td>33091.54</td>\n",
       "      <td>13935.48</td>\n",
       "      <td>468082046.61</td>\n",
       "      <td>320364</td>\n",
       "      <td>6787.65</td>\n",
       "      <td>228045415.16</td>\n",
       "    </tr>\n",
       "    <tr>\n",
       "      <th>4</th>\n",
       "      <td>2021-07-13</td>\n",
       "      <td>33086.72</td>\n",
       "      <td>33339.72</td>\n",
       "      <td>32200.74</td>\n",
       "      <td>32729.46</td>\n",
       "      <td>11023.44</td>\n",
       "      <td>361582725.42</td>\n",
       "      <td>296620</td>\n",
       "      <td>5306.37</td>\n",
       "      <td>174150732.58</td>\n",
       "    </tr>\n",
       "  </tbody>\n",
       "</table>\n",
       "</div>"
      ],
      "text/plain": [
       "        Date  Open price  High price  Low price  Close price   Volume  \\\n",
       "0 2021-07-09    32872.07    34100.00   32272.17     33816.26 12803.63   \n",
       "1 2021-07-10    33816.26    34258.39   33025.01     33500.22 11966.55   \n",
       "2 2021-07-11    33500.22    34613.21   33310.22     34259.99  9968.94   \n",
       "3 2021-07-12    34260.00    34671.94   32660.21     33091.54 13935.48   \n",
       "4 2021-07-13    33086.72    33339.72   32200.74     32729.46 11023.44   \n",
       "\n",
       "   Quote asset volume  Number of trades  Taker buy base asset volume  \\\n",
       "0        424372552.54            303609                      6728.78   \n",
       "1        403478066.42            254385                      5934.86   \n",
       "2        337557944.21            244856                      5451.79   \n",
       "3        468082046.61            320364                      6787.65   \n",
       "4        361582725.42            296620                      5306.37   \n",
       "\n",
       "   Taker buy quote asset volume  \n",
       "0                  223160739.84  \n",
       "1                  200178530.88  \n",
       "2                  184559747.24  \n",
       "3                  228045415.16  \n",
       "4                  174150732.58  "
      ]
     },
     "execution_count": 4,
     "metadata": {},
     "output_type": "execute_result"
    }
   ],
   "source": [
    "# Convertir json en pandas df\n",
    "df = pd.DataFrame.from_dict(jsondata)\n",
    "\n",
    "# Acomodar df de acuerdo al JSON recibido\n",
    "df.rename(columns={\n",
    "    0: \"Date\", \n",
    "    1: \"Open price\", \n",
    "    2: \"High price\", \n",
    "    3: \"Low price\", \n",
    "    4: \"Close price\",\n",
    "    5: \"Volume\",\n",
    "    7: \"Quote asset volume\",\n",
    "    8: \"Number of trades\",\n",
    "    9: \"Taker buy base asset volume\",\n",
    "    10: \"Taker buy quote asset volume\"}, \n",
    "    inplace=True)\n",
    "df.drop(axis=1, columns=[6,11], inplace=True)\n",
    "\n",
    "df = df.apply(pd.to_numeric)\n",
    "df[\"Date\"] = pd.to_datetime((df[\"Date\"]/1000), unit=\"s\")\n",
    "\n",
    "df.head()"
   ]
  },
  {
   "cell_type": "code",
   "execution_count": 5,
   "metadata": {},
   "outputs": [
    {
     "data": {
      "text/plain": [
       "[Text(0.5, 1.0, 'BTC Price'), Text(0, 0.5, 'BUSD')]"
      ]
     },
     "execution_count": 5,
     "metadata": {},
     "output_type": "execute_result"
    },
    {
     "data": {
      "image/png": "[encoded data removed]",
      "text/plain": [
       "<Figure size 1080x360 with 1 Axes>"
      ]
     },
     "metadata": {
      "needs_background": "light"
     },
     "output_type": "display_data"
    }
   ],
   "source": [
    "fig, ax = plt.subplots(figsize=[15,5])\n",
    "sns.lineplot(y=df[\"Close price\"], x=df[\"Date\"]).set(title=base_asset+\" Price\", ylabel=price_asset)"
   ]
  }
 ],
 "metadata": {
  "kernelspec": {
   "display_name": "Python 3.10.5 64-bit",
   "language": "python",
   "name": "python3"
  },
  "language_info": {
   "codemirror_mode": {
    "name": "ipython",
    "version": 3
   },
   "file_extension": ".py",
   "mimetype": "text/x-python",
   "name": "python",
   "nbconvert_exporter": "python",
   "pygments_lexer": "ipython3",
   "version": "3.10.5"
  },
  "orig_nbformat": 4,
  "vscode": {
   "interpreter": {
    "hash": "26de051ba29f2982a8de78e945f0abaf191376122a1563185a90213a26c5da77"
   }
  }
 },
 "nbformat": 4,
 "nbformat_minor": 2
}
